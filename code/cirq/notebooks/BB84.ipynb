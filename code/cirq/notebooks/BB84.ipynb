{
  "nbformat": 4,
  "nbformat_minor": 0,
  "metadata": {
    "colab": {
      "name": "BB84.ipynb",
      "provenance": [],
      "authorship_tag": "ABX9TyP4f6c4iKJWSvFg68ZXUnf/",
      "include_colab_link": true
    },
    "kernelspec": {
      "name": "python3",
      "display_name": "Python 3"
    },
    "language_info": {
      "name": "python"
    }
  },
  "cells": [
    {
      "cell_type": "markdown",
      "metadata": {
        "id": "view-in-github",
        "colab_type": "text"
      },
      "source": [
        "<a href=\"https://colab.research.google.com/github/niranjansd/quantum-software/blob/main/Cirq-BB84.ipynb\" target=\"_parent\"><img src=\"https://colab.research.google.com/assets/colab-badge.svg\" alt=\"Open In Colab\"/></a>"
      ]
    },
    {
      "cell_type": "code",
      "execution_count": null,
      "metadata": {
        "colab": {
          "base_uri": "https://localhost:8080/"
        },
        "id": "DTQ1_KiVUkrR",
        "outputId": "b93069a9-6d7a-4c0f-a4b8-4b148bdf90de"
      },
      "outputs": [
        {
          "output_type": "stream",
          "name": "stdout",
          "text": [
            "Looking in indexes: https://pypi.org/simple, https://us-python.pkg.dev/colab-wheels/public/simple/\n",
            "Requirement already satisfied: cirq in /usr/local/lib/python3.7/dist-packages (1.0.0)\n",
            "Requirement already satisfied: cirq-rigetti==1.0.0 in /usr/local/lib/python3.7/dist-packages (from cirq) (1.0.0)\n",
            "Requirement already satisfied: cirq-core==1.0.0 in /usr/local/lib/python3.7/dist-packages (from cirq) (1.0.0)\n",
            "Requirement already satisfied: cirq-aqt==1.0.0 in /usr/local/lib/python3.7/dist-packages (from cirq) (1.0.0)\n",
            "Requirement already satisfied: cirq-google==1.0.0 in /usr/local/lib/python3.7/dist-packages (from cirq) (1.0.0)\n",
            "Requirement already satisfied: cirq-ionq==1.0.0 in /usr/local/lib/python3.7/dist-packages (from cirq) (1.0.0)\n",
            "Requirement already satisfied: cirq-pasqal==1.0.0 in /usr/local/lib/python3.7/dist-packages (from cirq) (1.0.0)\n",
            "Requirement already satisfied: cirq-web==1.0.0 in /usr/local/lib/python3.7/dist-packages (from cirq) (1.0.0)\n",
            "Requirement already satisfied: requests~=2.18 in /usr/local/lib/python3.7/dist-packages (from cirq-aqt==1.0.0->cirq) (2.23.0)\n",
            "Requirement already satisfied: tqdm in /usr/local/lib/python3.7/dist-packages (from cirq-core==1.0.0->cirq) (4.64.0)\n",
            "Requirement already satisfied: networkx~=2.4 in /usr/local/lib/python3.7/dist-packages (from cirq-core==1.0.0->cirq) (2.6.3)\n",
            "Requirement already satisfied: sympy in /usr/local/lib/python3.7/dist-packages (from cirq-core==1.0.0->cirq) (1.7.1)\n",
            "Requirement already satisfied: pandas in /usr/local/lib/python3.7/dist-packages (from cirq-core==1.0.0->cirq) (1.3.5)\n",
            "Requirement already satisfied: typing-extensions in /usr/local/lib/python3.7/dist-packages (from cirq-core==1.0.0->cirq) (3.10.0.0)\n",
            "Requirement already satisfied: numpy~=1.16 in /usr/local/lib/python3.7/dist-packages (from cirq-core==1.0.0->cirq) (1.21.6)\n",
            "Requirement already satisfied: sortedcontainers~=2.0 in /usr/local/lib/python3.7/dist-packages (from cirq-core==1.0.0->cirq) (2.4.0)\n",
            "Requirement already satisfied: duet~=0.2.7 in /usr/local/lib/python3.7/dist-packages (from cirq-core==1.0.0->cirq) (0.2.7)\n",
            "Requirement already satisfied: matplotlib~=3.0 in /usr/local/lib/python3.7/dist-packages (from cirq-core==1.0.0->cirq) (3.2.2)\n",
            "Requirement already satisfied: scipy in /usr/local/lib/python3.7/dist-packages (from cirq-core==1.0.0->cirq) (1.7.3)\n",
            "Requirement already satisfied: backports.cached-property~=1.0.1 in /usr/local/lib/python3.7/dist-packages (from cirq-core==1.0.0->cirq) (1.0.2)\n",
            "Requirement already satisfied: google-api-core[grpc]<2.0.0dev,>=1.14.0 in /usr/local/lib/python3.7/dist-packages (from cirq-google==1.0.0->cirq) (1.31.6)\n",
            "Requirement already satisfied: proto-plus>=1.20.0 in /usr/local/lib/python3.7/dist-packages (from cirq-google==1.0.0->cirq) (1.20.6)\n",
            "Requirement already satisfied: protobuf<4,>=3.15.0 in /usr/local/lib/python3.7/dist-packages (from cirq-google==1.0.0->cirq) (3.20.1)\n",
            "Requirement already satisfied: pyquil>=3.0.0 in /usr/local/lib/python3.7/dist-packages (from cirq-rigetti==1.0.0->cirq) (3.1.0)\n",
            "Requirement already satisfied: pytz in /usr/local/lib/python3.7/dist-packages (from google-api-core[grpc]<2.0.0dev,>=1.14.0->cirq-google==1.0.0->cirq) (2022.1)\n",
            "Requirement already satisfied: googleapis-common-protos<2.0dev,>=1.6.0 in /usr/local/lib/python3.7/dist-packages (from google-api-core[grpc]<2.0.0dev,>=1.14.0->cirq-google==1.0.0->cirq) (1.56.4)\n",
            "Requirement already satisfied: packaging>=14.3 in /usr/local/lib/python3.7/dist-packages (from google-api-core[grpc]<2.0.0dev,>=1.14.0->cirq-google==1.0.0->cirq) (21.3)\n",
            "Requirement already satisfied: google-auth<2.0dev,>=1.25.0 in /usr/local/lib/python3.7/dist-packages (from google-api-core[grpc]<2.0.0dev,>=1.14.0->cirq-google==1.0.0->cirq) (1.35.0)\n",
            "Requirement already satisfied: six>=1.13.0 in /usr/local/lib/python3.7/dist-packages (from google-api-core[grpc]<2.0.0dev,>=1.14.0->cirq-google==1.0.0->cirq) (1.15.0)\n",
            "Requirement already satisfied: setuptools>=40.3.0 in /usr/local/lib/python3.7/dist-packages (from google-api-core[grpc]<2.0.0dev,>=1.14.0->cirq-google==1.0.0->cirq) (57.4.0)\n",
            "Requirement already satisfied: grpcio<2.0dev,>=1.29.0 in /usr/local/lib/python3.7/dist-packages (from google-api-core[grpc]<2.0.0dev,>=1.14.0->cirq-google==1.0.0->cirq) (1.47.0)\n",
            "Requirement already satisfied: cachetools<5.0,>=2.0.0 in /usr/local/lib/python3.7/dist-packages (from google-auth<2.0dev,>=1.25.0->google-api-core[grpc]<2.0.0dev,>=1.14.0->cirq-google==1.0.0->cirq) (4.2.4)\n",
            "Requirement already satisfied: rsa<5,>=3.1.4 in /usr/local/lib/python3.7/dist-packages (from google-auth<2.0dev,>=1.25.0->google-api-core[grpc]<2.0.0dev,>=1.14.0->cirq-google==1.0.0->cirq) (4.9)\n",
            "Requirement already satisfied: pyasn1-modules>=0.2.1 in /usr/local/lib/python3.7/dist-packages (from google-auth<2.0dev,>=1.25.0->google-api-core[grpc]<2.0.0dev,>=1.14.0->cirq-google==1.0.0->cirq) (0.2.8)\n",
            "Requirement already satisfied: cycler>=0.10 in /usr/local/lib/python3.7/dist-packages (from matplotlib~=3.0->cirq-core==1.0.0->cirq) (0.11.0)\n",
            "Requirement already satisfied: pyparsing!=2.0.4,!=2.1.2,!=2.1.6,>=2.0.1 in /usr/local/lib/python3.7/dist-packages (from matplotlib~=3.0->cirq-core==1.0.0->cirq) (3.0.9)\n",
            "Requirement already satisfied: kiwisolver>=1.0.1 in /usr/local/lib/python3.7/dist-packages (from matplotlib~=3.0->cirq-core==1.0.0->cirq) (1.4.4)\n",
            "Requirement already satisfied: python-dateutil>=2.1 in /usr/local/lib/python3.7/dist-packages (from matplotlib~=3.0->cirq-core==1.0.0->cirq) (2.8.2)\n",
            "Requirement already satisfied: pyasn1<0.5.0,>=0.4.6 in /usr/local/lib/python3.7/dist-packages (from pyasn1-modules>=0.2.1->google-auth<2.0dev,>=1.25.0->google-api-core[grpc]<2.0.0dev,>=1.14.0->cirq-google==1.0.0->cirq) (0.4.8)\n",
            "Requirement already satisfied: lark<0.12.0,>=0.11.1 in /usr/local/lib/python3.7/dist-packages (from pyquil>=3.0.0->cirq-rigetti==1.0.0->cirq) (0.11.3)\n",
            "Requirement already satisfied: retry<0.10.0,>=0.9.2 in /usr/local/lib/python3.7/dist-packages (from pyquil>=3.0.0->cirq-rigetti==1.0.0->cirq) (0.9.2)\n",
            "Requirement already satisfied: qcs-api-client<0.21.0,>=0.8.1 in /usr/local/lib/python3.7/dist-packages (from pyquil>=3.0.0->cirq-rigetti==1.0.0->cirq) (0.20.17)\n",
            "Requirement already satisfied: importlib-metadata<4.0.0,>=3.7.3 in /usr/local/lib/python3.7/dist-packages (from pyquil>=3.0.0->cirq-rigetti==1.0.0->cirq) (3.10.1)\n",
            "Requirement already satisfied: rpcq<4.0.0,>=3.6.0 in /usr/local/lib/python3.7/dist-packages (from pyquil>=3.0.0->cirq-rigetti==1.0.0->cirq) (3.10.0)\n",
            "Requirement already satisfied: zipp>=0.5 in /usr/local/lib/python3.7/dist-packages (from importlib-metadata<4.0.0,>=3.7.3->pyquil>=3.0.0->cirq-rigetti==1.0.0->cirq) (3.8.1)\n",
            "Requirement already satisfied: httpx<0.16.0,>=0.15.0 in /usr/local/lib/python3.7/dist-packages (from qcs-api-client<0.21.0,>=0.8.1->pyquil>=3.0.0->cirq-rigetti==1.0.0->cirq) (0.15.5)\n",
            "Requirement already satisfied: retrying<2.0.0,>=1.3.3 in /usr/local/lib/python3.7/dist-packages (from qcs-api-client<0.21.0,>=0.8.1->pyquil>=3.0.0->cirq-rigetti==1.0.0->cirq) (1.3.3)\n",
            "Requirement already satisfied: pydantic<2.0.0,>=1.7.2 in /usr/local/lib/python3.7/dist-packages (from qcs-api-client<0.21.0,>=0.8.1->pyquil>=3.0.0->cirq-rigetti==1.0.0->cirq) (1.9.1)\n",
            "Requirement already satisfied: toml<0.11.0,>=0.10.2 in /usr/local/lib/python3.7/dist-packages (from qcs-api-client<0.21.0,>=0.8.1->pyquil>=3.0.0->cirq-rigetti==1.0.0->cirq) (0.10.2)\n",
            "Requirement already satisfied: rfc3339<7.0,>=6.2 in /usr/local/lib/python3.7/dist-packages (from qcs-api-client<0.21.0,>=0.8.1->pyquil>=3.0.0->cirq-rigetti==1.0.0->cirq) (6.2)\n",
            "Requirement already satisfied: attrs<21.0.0,>=20.1.0 in /usr/local/lib/python3.7/dist-packages (from qcs-api-client<0.21.0,>=0.8.1->pyquil>=3.0.0->cirq-rigetti==1.0.0->cirq) (20.3.0)\n",
            "Requirement already satisfied: pyjwt<2.0.0,>=1.7.1 in /usr/local/lib/python3.7/dist-packages (from qcs-api-client<0.21.0,>=0.8.1->pyquil>=3.0.0->cirq-rigetti==1.0.0->cirq) (1.7.1)\n",
            "Requirement already satisfied: iso8601<0.2.0,>=0.1.13 in /usr/local/lib/python3.7/dist-packages (from qcs-api-client<0.21.0,>=0.8.1->pyquil>=3.0.0->cirq-rigetti==1.0.0->cirq) (0.1.16)\n",
            "Requirement already satisfied: sniffio in /usr/local/lib/python3.7/dist-packages (from httpx<0.16.0,>=0.15.0->qcs-api-client<0.21.0,>=0.8.1->pyquil>=3.0.0->cirq-rigetti==1.0.0->cirq) (1.2.0)\n",
            "Requirement already satisfied: httpcore==0.11.* in /usr/local/lib/python3.7/dist-packages (from httpx<0.16.0,>=0.15.0->qcs-api-client<0.21.0,>=0.8.1->pyquil>=3.0.0->cirq-rigetti==1.0.0->cirq) (0.11.1)\n",
            "Requirement already satisfied: rfc3986[idna2008]<2,>=1.3 in /usr/local/lib/python3.7/dist-packages (from httpx<0.16.0,>=0.15.0->qcs-api-client<0.21.0,>=0.8.1->pyquil>=3.0.0->cirq-rigetti==1.0.0->cirq) (1.5.0)\n",
            "Requirement already satisfied: certifi in /usr/local/lib/python3.7/dist-packages (from httpx<0.16.0,>=0.15.0->qcs-api-client<0.21.0,>=0.8.1->pyquil>=3.0.0->cirq-rigetti==1.0.0->cirq) (2022.6.15)\n",
            "Requirement already satisfied: h11<0.10,>=0.8 in /usr/local/lib/python3.7/dist-packages (from httpcore==0.11.*->httpx<0.16.0,>=0.15.0->qcs-api-client<0.21.0,>=0.8.1->pyquil>=3.0.0->cirq-rigetti==1.0.0->cirq) (0.9.0)\n",
            "Requirement already satisfied: chardet<4,>=3.0.2 in /usr/local/lib/python3.7/dist-packages (from requests~=2.18->cirq-aqt==1.0.0->cirq) (3.0.4)\n",
            "Requirement already satisfied: urllib3!=1.25.0,!=1.25.1,<1.26,>=1.21.1 in /usr/local/lib/python3.7/dist-packages (from requests~=2.18->cirq-aqt==1.0.0->cirq) (1.24.3)\n",
            "Requirement already satisfied: idna<3,>=2.5 in /usr/local/lib/python3.7/dist-packages (from requests~=2.18->cirq-aqt==1.0.0->cirq) (2.10)\n",
            "Requirement already satisfied: decorator>=3.4.2 in /usr/local/lib/python3.7/dist-packages (from retry<0.10.0,>=0.9.2->pyquil>=3.0.0->cirq-rigetti==1.0.0->cirq) (4.4.2)\n",
            "Requirement already satisfied: py<2.0.0,>=1.4.26 in /usr/local/lib/python3.7/dist-packages (from retry<0.10.0,>=0.9.2->pyquil>=3.0.0->cirq-rigetti==1.0.0->cirq) (1.11.0)\n",
            "Requirement already satisfied: msgpack<1.0,>=0.6 in /usr/local/lib/python3.7/dist-packages (from rpcq<4.0.0,>=3.6.0->pyquil>=3.0.0->cirq-rigetti==1.0.0->cirq) (0.6.2)\n",
            "Requirement already satisfied: python-rapidjson in /usr/local/lib/python3.7/dist-packages (from rpcq<4.0.0,>=3.6.0->pyquil>=3.0.0->cirq-rigetti==1.0.0->cirq) (1.8)\n",
            "Requirement already satisfied: ruamel.yaml in /usr/local/lib/python3.7/dist-packages (from rpcq<4.0.0,>=3.6.0->pyquil>=3.0.0->cirq-rigetti==1.0.0->cirq) (0.17.21)\n",
            "Requirement already satisfied: pyzmq>=17 in /usr/local/lib/python3.7/dist-packages (from rpcq<4.0.0,>=3.6.0->pyquil>=3.0.0->cirq-rigetti==1.0.0->cirq) (23.2.0)\n",
            "Requirement already satisfied: ruamel.yaml.clib>=0.2.6 in /usr/local/lib/python3.7/dist-packages (from ruamel.yaml->rpcq<4.0.0,>=3.6.0->pyquil>=3.0.0->cirq-rigetti==1.0.0->cirq) (0.2.6)\n",
            "Requirement already satisfied: mpmath>=0.19 in /usr/local/lib/python3.7/dist-packages (from sympy->cirq-core==1.0.0->cirq) (1.2.1)\n"
          ]
        }
      ],
      "source": [
        "!pip install cirq"
      ]
    },
    {
      "cell_type": "code",
      "source": [
        "import bb84\n",
        "import importlib\n",
        "importlib.reload(bb84)"
      ],
      "metadata": {
        "colab": {
          "base_uri": "https://localhost:8080/"
        },
        "id": "Bt605fYzVwek",
        "outputId": "81fed09f-08b1-4441-8161-b5244b250c8f"
      },
      "execution_count": null,
      "outputs": [
        {
          "output_type": "execute_result",
          "data": {
            "text/plain": [
              "<module 'bb84' from '/content/bb84.py'>"
            ]
          },
          "metadata": {},
          "execution_count": 50
        }
      ]
    },
    {
      "cell_type": "code",
      "source": [
        "bb84run = bb84.BB84(num_qubits=8)"
      ],
      "metadata": {
        "id": "1YW9T-TnV4E4"
      },
      "execution_count": null,
      "outputs": []
    },
    {
      "cell_type": "code",
      "source": [
        "# bb84run.simulate_base_protocol(num_qubits=8)"
      ],
      "metadata": {
        "id": "FY-pKha2Wtco"
      },
      "execution_count": null,
      "outputs": []
    },
    {
      "cell_type": "code",
      "source": [
        "bb84run.simulate_eavesdropped_protocol(num_qubits=8)"
      ],
      "metadata": {
        "colab": {
          "base_uri": "https://localhost:8080/"
        },
        "id": "-fdsz0UpdTPW",
        "outputId": "27116947-a50f-4c50-a457-17ac96f3d59a"
      },
      "execution_count": null,
      "outputs": [
        {
          "output_type": "stream",
          "name": "stdout",
          "text": [
            "0: ───X───M───────X───M───────────\n",
            "\n",
            "1: ───H───H───M───H───H───M───────\n",
            "\n",
            "2: ───X───H───M───X───H───H───M───\n",
            "\n",
            "3: ───X───M───────X───H───M───────\n",
            "\n",
            "4: ───X───H───M───X───H───H───M───\n",
            "\n",
            "5: ───X───H───M───H───M───────────\n",
            "\n",
            "6: ───M───────────H───M───────────\n",
            "\n",
            "7: ───H───H───M───H───H───M───────\n",
            "Alice's basis:\tCHCCCHCH\n",
            "Bob's basis:\tCHHHHHHH\n",
            "Alice's bits:\t10111100\n",
            "Bases match::\tXX___X_X\n",
            "Expected key:\t1010\n",
            "Actual key:\t1000\n"
          ]
        }
      ]
    }
  ]
}